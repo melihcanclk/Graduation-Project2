{
 "cells": [
  {
   "cell_type": "code",
   "execution_count": 49,
   "metadata": {},
   "outputs": [],
   "source": [
    "import pandas as pd\n",
    "\n",
    "colnames=['TARIH','GUNCELLEME ZAMANI', 'ALIS_SATIS', 'ISLEM ADEDI', 'ISLEM FIYATI', 'ISLEM HACMI', 'ISLEM ZAMANI'] \n",
    "\n",
    "date = '202304'\n",
    "chunk_container = pd.read_csv('PP_GUNICIISLEM.M.' + date + '.csv',sep=';', chunksize=100)\n"
   ]
  },
  {
   "attachments": {},
   "cell_type": "markdown",
   "metadata": {},
   "source": []
  },
  {
   "cell_type": "code",
   "execution_count": 50,
   "metadata": {},
   "outputs": [
    {
     "name": "stdout",
     "output_type": "stream",
     "text": [
      "         TARIH        ISLEM KODU   ORTAK SOZLESME NO ESLESEN BOLUM BILGISI   \n",
      "0         DATE  TRANSACTION CODE  JOINT AGREEMENT NO      MATCH TRADE ITEM  \\\n",
      "1   2023-04-05           IHLAS.E     AAF6D010005FCC1                   NaN   \n",
      "2   2023-04-05           IHLAS.E     AAF6D010005FC49                   NaN   \n",
      "3   2023-04-05           IHLAS.E     AAF6D010005FC4A                   NaN   \n",
      "4   2023-04-05           GARAN.E     AAF6D010005F20A                   NaN   \n",
      "..         ...               ...                 ...                   ...   \n",
      "95  2023-04-05          ALTIN.S1     AAF6D010005BBE7                   NaN   \n",
      "96  2023-04-05          ALTIN.S1     AAF6D010005BBE4                   NaN   \n",
      "97  2023-04-05          ALTIN.S1     AAF6D010005BBE5                   NaN   \n",
      "98  2023-04-05          ALTIN.S1     AAF6D010005BBE6                   NaN   \n",
      "99  2023-04-05          ALTIN.S1     AAF6D010005BBE7                   NaN   \n",
      "\n",
      "   ALIS_SATIS             ISLEM ADEDI ISLEM FIYATI  ISLEM HACMI   \n",
      "0    BUY_SELL  NUMBER OF TRANSACTIONS   PAID PRICE  TRADE VALUE  \\\n",
      "1           S                       1          0.8          0.8   \n",
      "2           S                       2          0.8          1.6   \n",
      "3           S                       1          0.8          0.8   \n",
      "4           S                       1        28.44        28.44   \n",
      "..        ...                     ...          ...          ...   \n",
      "95          A                      59           13          767   \n",
      "96          S                      25           13          325   \n",
      "97          S                      45           13          585   \n",
      "98          S                     130           13         1690   \n",
      "99          S                      59           13          767   \n",
      "\n",
      "             EMIR NO     ISLEM ZAMANI  ...         SEANS  ISLEM DURUMU   \n",
      "0           ORDER NO       TRADE TIME  ...       SESSION  TRADE STATUS  \\\n",
      "1   6ADA4301006D4EA4  09:55:01.000000  ...  P_ESLESTIRME             3   \n",
      "2   6ADA4301006D4E7A  09:55:01.000000  ...  P_ESLESTIRME             3   \n",
      "3   6ADA4301006D4E7C  09:55:01.000000  ...  P_ESLESTIRME             3   \n",
      "4   6ADA4301006CCDD4  09:55:01.000000  ...  P_ESLESTIRME             3   \n",
      "..               ...              ...  ...           ...           ...   \n",
      "95  6ADA4301006DE288  09:55:01.146000  ...  P_ESLESTIRME             1   \n",
      "96  6ADA430100709018  09:55:01.146000  ...  P_ESLESTIRME             1   \n",
      "97  6ADA430100709018  09:55:01.146000  ...  P_ESLESTIRME             1   \n",
      "98  6ADA430100709018  09:55:01.146000  ...  P_ESLESTIRME             1   \n",
      "99  6ADA4301006E7537  09:55:01.146000  ...  P_ESLESTIRME             1   \n",
      "\n",
      "       TAKAS TARIHI     AKTIF_PASIF TAKAS TARAFI ISLEM NO   \n",
      "0   SETTLEMENT DATE  ACTIVE_PASSIVE              TRADE ID  \\\n",
      "1                                 P            1108742224   \n",
      "2                                 P            1108742228   \n",
      "3                                 P            1108742252   \n",
      "4                                 P            1108742232   \n",
      "..              ...             ...                   ...   \n",
      "95                                P               2259257   \n",
      "96                                P               2259252   \n",
      "97                                P               2259254   \n",
      "98                                P               2259256   \n",
      "99                                P               2259258   \n",
      "\n",
      "   TAKAS TARAFI ORTAK ANLASMA NO    GUNCELLEME ZAMANI         DEVIR   \n",
      "0                        DEAL ID          UPDATE TIME  GIVE UP FLAG  \\\n",
      "1                      548993967  2023-04-06 05:42:30             H   \n",
      "2                      548993742  2023-04-06 05:42:30             H   \n",
      "3                      548993744  2023-04-06 05:42:30             H   \n",
      "4                      548989140  2023-04-06 05:42:30             H   \n",
      "..                           ...                  ...           ...   \n",
      "95                       1126867  2023-04-05 06:55:01             H   \n",
      "96                       1126864  2023-04-05 06:55:01             H   \n",
      "97                       1126865  2023-04-05 06:55:01             H   \n",
      "98                       1126866  2023-04-05 06:55:01             H   \n",
      "99                       1126867  2023-04-05 06:55:01             H   \n",
      "\n",
      "   GUNCELLEME NO  GUNCELLEME ZAMANI.1  \n",
      "0      UPDATE NO          UPDATE TIME  \n",
      "1              1  2023-04-06 05:42:31  \n",
      "2              1  2023-04-06 05:42:31  \n",
      "3              1  2023-04-06 05:42:31  \n",
      "4              1  2023-04-06 05:42:31  \n",
      "..           ...                  ...  \n",
      "95             1  2023-04-05 06:55:03  \n",
      "96             1  2023-04-05 06:55:03  \n",
      "97             1  2023-04-05 06:55:03  \n",
      "98             1  2023-04-05 06:55:03  \n",
      "99             1  2023-04-05 06:55:03  \n",
      "\n",
      "[100 rows x 21 columns]\n"
     ]
    }
   ],
   "source": [
    "\n",
    "first_1000 = next(chunk_container)[:1000]\n",
    "print(first_1000)"
   ]
  }
 ],
 "metadata": {
  "kernelspec": {
   "display_name": "Python 3",
   "language": "python",
   "name": "python3"
  },
  "language_info": {
   "codemirror_mode": {
    "name": "ipython",
    "version": 3
   },
   "file_extension": ".py",
   "mimetype": "text/x-python",
   "name": "python",
   "nbconvert_exporter": "python",
   "pygments_lexer": "ipython3",
   "version": "3.10.6"
  },
  "orig_nbformat": 4
 },
 "nbformat": 4,
 "nbformat_minor": 2
}
